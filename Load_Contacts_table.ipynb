{
 "cells": [
  {
   "cell_type": "code",
   "execution_count": 18,
   "id": "0e88bdfa",
   "metadata": {},
   "outputs": [],
   "source": [
    "import mysql.connector\n",
    "import json\n"
   ]
  },
  {
   "cell_type": "code",
   "execution_count": 27,
   "id": "12ccac6c",
   "metadata": {},
   "outputs": [],
   "source": [
    "# Open the JSON file\n",
    "\n",
    "with open('finalout.json') as f:\n",
    "\n",
    "    data = json.load(f)\n"
   ]
  },
  {
   "cell_type": "code",
   "execution_count": 34,
   "id": "56cc13c2",
   "metadata": {},
   "outputs": [],
   "source": [
    "# Write the dictionary to a JSON file\n",
    "with open('database_config.json', 'r') as f:\n",
    "    C=json.load(f)"
   ]
  },
  {
   "cell_type": "code",
   "execution_count": 35,
   "id": "904eec9c",
   "metadata": {},
   "outputs": [],
   "source": [
    "# Connect to MySQL\n",
    "\n",
    "conn = mysql.connector.connect(\n",
    "\n",
    "    host= C[\"HOST\"],\n",
    "\n",
    "    user=C[\"USER\"],\n",
    "\n",
    "    password=C[\"PASSWORD\"],\n",
    "\n",
    "    database=C[\"DATABASE\"],\n",
    "    \n",
    "    port = C[\"PORT\"]\n",
    "\n",
    ")\n"
   ]
  },
  {
   "cell_type": "code",
   "execution_count": 36,
   "id": "abcdcc58",
   "metadata": {},
   "outputs": [
    {
     "name": "stdout",
     "output_type": "stream",
     "text": [
      "Connection successful\n"
     ]
    }
   ],
   "source": [
    "# Check if the connection is working\n",
    "if conn.is_connected():\n",
    "    print(\"Connection successful\")\n",
    "else:\n",
    "    print(\"Connection failed\")"
   ]
  },
  {
   "cell_type": "code",
   "execution_count": 37,
   "id": "7477f59d",
   "metadata": {
    "scrolled": true
   },
   "outputs": [
    {
     "name": "stdout",
     "output_type": "stream",
     "text": [
      "remzy_dw\n"
     ]
    }
   ],
   "source": [
    "#print database name\n",
    "print(conn.database)"
   ]
  },
  {
   "cell_type": "code",
   "execution_count": 39,
   "id": "f42f80a5",
   "metadata": {},
   "outputs": [],
   "source": [
    "# Create a cursor\n",
    "\n",
    "cursor = conn.cursor()\n"
   ]
  },
  {
   "cell_type": "code",
   "execution_count": 40,
   "id": "e7e6a5fa",
   "metadata": {},
   "outputs": [],
   "source": [
    "# Loop through the JSON data and insert into MySQL\n",
    "\n",
    "for item in data:\n",
    "\n",
    "    # Define the SQL statement with placeholders for values\n",
    "\n",
    "    sql = \"\"\"INSERT INTO remzy_dw.Contacts (id, email,first_name,last_name, delivery_street, delivery_city, delivery_state, \n",
    "            delivery_post_code, deliver_country, phone_number, do_not_call)\n",
    "            VALUES (%s, %s,%s, %s, %s,%s, %s, %s,%s, %s, %s)\"\"\"\n",
    "\n",
    "   \n",
    "\n",
    "    # Extract values from JSON data\n",
    "\n",
    "    value1 = item['ID']\n",
    "    value2 = item['Email']\n",
    "    value3 = item['FirstName']\n",
    "    value4 = item['LastName']\n",
    "    value5 = item['MailingStreet']\n",
    "    value6 = item['MailingCity']\n",
    "    value7 = item['MailingState']\n",
    "    value8 = item['MailingPostalCode']\n",
    "    value9 = item['MailingCountry']\n",
    "    value10 = item['Phone']\n",
    "    value11 = item['DoNotCall']\n",
    "    \n",
    "    \n",
    "\n",
    "    # Execute the SQL statement with values\n",
    "\n",
    "    cursor.execute(sql, (value1, value2, value3,value4, value5, value6,value7, value8, value9,value10, value11))\n",
    "    \n",
    "  \n",
    "    conn.commit()\n",
    "    \n"
   ]
  },
  {
   "cell_type": "code",
   "execution_count": 33,
   "id": "9dc0ab7e",
   "metadata": {
    "scrolled": true
   },
   "outputs": [],
   "source": [
    "\n",
    "conn.close()\n"
   ]
  },
  {
   "cell_type": "code",
   "execution_count": 51,
   "id": "47254dbd",
   "metadata": {
    "collapsed": true
   },
   "outputs": [
    {
     "ename": "ProgrammingError",
     "evalue": "1064 (42000): You have an error in your SQL syntax; check the manual that corresponds to your MySQL server version for the right syntax to use near '%s, %s, %s,%s, %s, %s,%s, %s, %s,%s, %s, %s,%s, %s)' at line 1",
     "output_type": "error",
     "traceback": [
      "\u001b[1;31m---------------------------------------------------------------------------\u001b[0m",
      "\u001b[1;31mMySQLInterfaceError\u001b[0m                       Traceback (most recent call last)",
      "\u001b[1;32m~\\anaconda3\\lib\\site-packages\\mysql\\connector\\connection_cext.py\u001b[0m in \u001b[0;36mcmd_query\u001b[1;34m(self, query, raw, buffered, raw_as_string)\u001b[0m\n\u001b[0;32m    534\u001b[0m                 \u001b[0mquery\u001b[0m \u001b[1;33m=\u001b[0m \u001b[0mquery\u001b[0m\u001b[1;33m.\u001b[0m\u001b[0mencode\u001b[0m\u001b[1;33m(\u001b[0m\u001b[1;34m'utf-8'\u001b[0m\u001b[1;33m)\u001b[0m\u001b[1;33m\u001b[0m\u001b[1;33m\u001b[0m\u001b[0m\n\u001b[1;32m--> 535\u001b[1;33m             self._cmysql.query(query,\n\u001b[0m\u001b[0;32m    536\u001b[0m                                \u001b[0mraw\u001b[0m\u001b[1;33m=\u001b[0m\u001b[0mraw\u001b[0m\u001b[1;33m,\u001b[0m \u001b[0mbuffered\u001b[0m\u001b[1;33m=\u001b[0m\u001b[0mbuffered\u001b[0m\u001b[1;33m,\u001b[0m\u001b[1;33m\u001b[0m\u001b[1;33m\u001b[0m\u001b[0m\n",
      "\u001b[1;31mMySQLInterfaceError\u001b[0m: You have an error in your SQL syntax; check the manual that corresponds to your MySQL server version for the right syntax to use near '%s, %s, %s,%s, %s, %s,%s, %s, %s,%s, %s, %s,%s, %s)' at line 1",
      "\nDuring handling of the above exception, another exception occurred:\n",
      "\u001b[1;31mProgrammingError\u001b[0m                          Traceback (most recent call last)",
      "\u001b[1;32m~\\AppData\\Local\\Temp/ipykernel_28020/1065908732.py\u001b[0m in \u001b[0;36m<module>\u001b[1;34m\u001b[0m\n\u001b[0;32m      1\u001b[0m \u001b[1;31m# Execute the insert query with the data\u001b[0m\u001b[1;33m\u001b[0m\u001b[1;33m\u001b[0m\u001b[0m\n\u001b[1;32m----> 2\u001b[1;33m \u001b[0mcursor\u001b[0m\u001b[1;33m.\u001b[0m\u001b[0mexecutemany\u001b[0m\u001b[1;33m(\u001b[0m\u001b[0msql\u001b[0m\u001b[1;33m,\u001b[0m \u001b[0mdata\u001b[0m\u001b[1;33m)\u001b[0m\u001b[1;33m\u001b[0m\u001b[1;33m\u001b[0m\u001b[0m\n\u001b[0m",
      "\u001b[1;32m~\\anaconda3\\lib\\site-packages\\mysql\\connector\\cursor_cext.py\u001b[0m in \u001b[0;36mexecutemany\u001b[1;34m(self, operation, seq_params)\u001b[0m\n\u001b[0;32m    361\u001b[0m         \u001b[1;32mtry\u001b[0m\u001b[1;33m:\u001b[0m\u001b[1;33m\u001b[0m\u001b[1;33m\u001b[0m\u001b[0m\n\u001b[0;32m    362\u001b[0m             \u001b[1;32mfor\u001b[0m \u001b[0mparams\u001b[0m \u001b[1;32min\u001b[0m \u001b[0mseq_params\u001b[0m\u001b[1;33m:\u001b[0m\u001b[1;33m\u001b[0m\u001b[1;33m\u001b[0m\u001b[0m\n\u001b[1;32m--> 363\u001b[1;33m                 \u001b[0mself\u001b[0m\u001b[1;33m.\u001b[0m\u001b[0mexecute\u001b[0m\u001b[1;33m(\u001b[0m\u001b[0moperation\u001b[0m\u001b[1;33m,\u001b[0m \u001b[0mparams\u001b[0m\u001b[1;33m)\u001b[0m\u001b[1;33m\u001b[0m\u001b[1;33m\u001b[0m\u001b[0m\n\u001b[0m\u001b[0;32m    364\u001b[0m                 \u001b[1;32mtry\u001b[0m\u001b[1;33m:\u001b[0m\u001b[1;33m\u001b[0m\u001b[1;33m\u001b[0m\u001b[0m\n\u001b[0;32m    365\u001b[0m                     \u001b[1;32mwhile\u001b[0m \u001b[1;32mTrue\u001b[0m\u001b[1;33m:\u001b[0m\u001b[1;33m\u001b[0m\u001b[1;33m\u001b[0m\u001b[0m\n",
      "\u001b[1;32m~\\anaconda3\\lib\\site-packages\\mysql\\connector\\cursor_cext.py\u001b[0m in \u001b[0;36mexecute\u001b[1;34m(self, operation, params, multi)\u001b[0m\n\u001b[0;32m    267\u001b[0m \u001b[1;33m\u001b[0m\u001b[0m\n\u001b[0;32m    268\u001b[0m         \u001b[1;32mtry\u001b[0m\u001b[1;33m:\u001b[0m\u001b[1;33m\u001b[0m\u001b[1;33m\u001b[0m\u001b[0m\n\u001b[1;32m--> 269\u001b[1;33m             result = self._cnx.cmd_query(stmt, raw=self._raw,\n\u001b[0m\u001b[0;32m    270\u001b[0m                                          \u001b[0mbuffered\u001b[0m\u001b[1;33m=\u001b[0m\u001b[0mself\u001b[0m\u001b[1;33m.\u001b[0m\u001b[0m_buffered\u001b[0m\u001b[1;33m,\u001b[0m\u001b[1;33m\u001b[0m\u001b[1;33m\u001b[0m\u001b[0m\n\u001b[0;32m    271\u001b[0m                                          raw_as_string=self._raw_as_string)\n",
      "\u001b[1;32m~\\anaconda3\\lib\\site-packages\\mysql\\connector\\connection_cext.py\u001b[0m in \u001b[0;36mcmd_query\u001b[1;34m(self, query, raw, buffered, raw_as_string)\u001b[0m\n\u001b[0;32m    538\u001b[0m                                query_attrs=self._query_attrs)\n\u001b[0;32m    539\u001b[0m         \u001b[1;32mexcept\u001b[0m \u001b[0mMySQLInterfaceError\u001b[0m \u001b[1;32mas\u001b[0m \u001b[0mexc\u001b[0m\u001b[1;33m:\u001b[0m\u001b[1;33m\u001b[0m\u001b[1;33m\u001b[0m\u001b[0m\n\u001b[1;32m--> 540\u001b[1;33m             raise errors.get_mysql_exception(exc.errno, msg=exc.msg,\n\u001b[0m\u001b[0;32m    541\u001b[0m                                              sqlstate=exc.sqlstate)\n\u001b[0;32m    542\u001b[0m         \u001b[1;32mexcept\u001b[0m \u001b[0mAttributeError\u001b[0m\u001b[1;33m:\u001b[0m\u001b[1;33m\u001b[0m\u001b[1;33m\u001b[0m\u001b[0m\n",
      "\u001b[1;31mProgrammingError\u001b[0m: 1064 (42000): You have an error in your SQL syntax; check the manual that corresponds to your MySQL server version for the right syntax to use near '%s, %s, %s,%s, %s, %s,%s, %s, %s,%s, %s, %s,%s, %s)' at line 1"
     ]
    }
   ],
   "source": []
  },
  {
   "cell_type": "code",
   "execution_count": null,
   "id": "b35f583e",
   "metadata": {},
   "outputs": [],
   "source": []
  },
  {
   "cell_type": "code",
   "execution_count": null,
   "id": "2accd9fa",
   "metadata": {},
   "outputs": [],
   "source": []
  }
 ],
 "metadata": {
  "kernelspec": {
   "display_name": "Python 3 (ipykernel)",
   "language": "python",
   "name": "python3"
  },
  "language_info": {
   "codemirror_mode": {
    "name": "ipython",
    "version": 3
   },
   "file_extension": ".py",
   "mimetype": "text/x-python",
   "name": "python",
   "nbconvert_exporter": "python",
   "pygments_lexer": "ipython3",
   "version": "3.9.7"
  }
 },
 "nbformat": 4,
 "nbformat_minor": 5
}
