{
 "cells": [
  {
   "cell_type": "code",
   "execution_count": 5,
   "id": "234680ef",
   "metadata": {
    "collapsed": true
   },
   "outputs": [
    {
     "name": "stdout",
     "output_type": "stream",
     "text": [
      "Requirement already satisfied: api in c:\\users\\ramse\\anaconda3\\lib\\site-packages (0.0.7)\n",
      "Requirement already satisfied: requests in c:\\users\\ramse\\anaconda3\\lib\\site-packages (from api) (2.26.0)\n",
      "Requirement already satisfied: nose in c:\\users\\ramse\\anaconda3\\lib\\site-packages (from api) (1.3.7)\n",
      "Requirement already satisfied: certifi>=2017.4.17 in c:\\users\\ramse\\anaconda3\\lib\\site-packages (from requests->api) (2021.10.8)\n",
      "Requirement already satisfied: idna<4,>=2.5 in c:\\users\\ramse\\anaconda3\\lib\\site-packages (from requests->api) (3.2)\n",
      "Requirement already satisfied: charset-normalizer~=2.0.0 in c:\\users\\ramse\\anaconda3\\lib\\site-packages (from requests->api) (2.0.4)\n",
      "Requirement already satisfied: urllib3<1.27,>=1.21.1 in c:\\users\\ramse\\anaconda3\\lib\\site-packages (from requests->api) (1.26.7)\n",
      "Note: you may need to restart the kernel to use updated packages.\n"
     ]
    },
    {
     "name": "stderr",
     "output_type": "stream",
     "text": [
      "WARNING: Ignoring invalid distribution -umpy (c:\\users\\ramse\\anaconda3\\lib\\site-packages)\n",
      "WARNING: Ignoring invalid distribution -umpy (c:\\users\\ramse\\anaconda3\\lib\\site-packages)\n",
      "WARNING: Ignoring invalid distribution -umpy (c:\\users\\ramse\\anaconda3\\lib\\site-packages)\n",
      "WARNING: Ignoring invalid distribution -umpy (c:\\users\\ramse\\anaconda3\\lib\\site-packages)\n",
      "WARNING: Ignoring invalid distribution -umpy (c:\\users\\ramse\\anaconda3\\lib\\site-packages)\n",
      "WARNING: Ignoring invalid distribution -umpy (c:\\users\\ramse\\anaconda3\\lib\\site-packages)\n"
     ]
    }
   ],
   "source": [
    "pip install api"
   ]
  },
  {
   "cell_type": "code",
   "execution_count": 12,
   "id": "c8f970c3",
   "metadata": {},
   "outputs": [
    {
     "name": "stdout",
     "output_type": "stream",
     "text": [
      "Done\n",
      "200\n",
      "OK\n"
     ]
    },
    {
     "data": {
      "text/plain": [
       "{'access_token': '00DDn000002q7Dy!ARkAQO7D9HV9l.CAvUmzM2yGUXlaEf3p5kpzFlM5TwWj.XCaXZXm3VoMSspnlTBSQRul37xogO56XJO.LQb2OFkKn3Ys9wXi',\n",
       " 'instance_url': 'https://koresoftware-dev-ed.develop.my.salesforce.com',\n",
       " 'id': 'https://login.salesforce.com/id/00DDn000002q7DyMAI/005Dn000002M1PFIA0',\n",
       " 'token_type': 'Bearer',\n",
       " 'issued_at': '1678461725682',\n",
       " 'signature': 'p+kgWfTtsWIIul5OV2MF9O+KYpKQjR+clOCFe6yz14A='}"
      ]
     },
     "execution_count": 12,
     "metadata": {},
     "output_type": "execute_result"
    }
   ],
   "source": [
    "\n",
    "import requests\n",
    "import json\n",
    "\n",
    "#read the config json file\n",
    "with open('salesforce_config.json', 'r') as f:\n",
    "    C = json.load(f)\n",
    "\n",
    "# Set the Salesforce URL,client ID, client secret, username and password from configfile   \n",
    "\n",
    "salesforce_url = \"https://login.salesforce.com/services/oauth2/token\"\n",
    "client_id = C[\"CLIENTID\"]\n",
    "client_secret = C[\"CLIENTSECRET\"]\n",
    "username = C[\"USERNAME\"]\n",
    "password = C[\"PASSWORD\"]\n",
    "\n",
    "\n",
    "# Set the REST API endpoint URL for obtaining an access token\n",
    "rest_api_url = salesforce_url+\"/services/oauth2/token\"\n",
    "\n",
    "payload = {\n",
    "    \"grant_type\":\"password\",\n",
    "    \"client_id\": client_id,\n",
    "    \"client_secret\":client_secret,\n",
    "    \"username\": username,\n",
    "    \"password\": password\n",
    "}\n",
    "\n",
    "# Send the POST request to the REST API endpoint with the payload\n",
    "response = requests.post(salesforce_url, data=payload)\n",
    "print('Done')\n",
    "print(response.status_code)\n",
    "print(response.reason)\n",
    "\n",
    "response.json()\n",
    "\n",
    "\n"
   ]
  },
  {
   "cell_type": "code",
   "execution_count": 13,
   "id": "0c83bcf5",
   "metadata": {},
   "outputs": [],
   "source": [
    "access_token = response.json().get(\"access_token\")\n",
    "instance_url = response.json().get(\"instance_url\")\n",
    "\n",
    "# Set the headers\n",
    "headers = {\n",
    "    \"Authorization\": f\"Bearer {access_token}\",\n",
    "    \"Content-Type\": \"application/json\"\n",
    "}\n",
    "\n",
    "# Define the SOQL query to retrieve data from Contacts Table in Salesforce\n",
    "#query = \"\"\"Select IndividualId,OwnerId,Email,Suffix,FirstName,LastName,MailingStreet,MailingCity,MailingState,\n",
    " #          MailingPostalCode,MailingCountry,DoNotCall,Phone,MobilePhone from Contact where DoNotCall<>True\"\"\"\n",
    "\n",
    "query = \"\"\"Select IndividualId,OwnerId,Email,FirstName,LastName,MailingStreet,MailingCity,MailingState,MailingPostalCode,MailingCountry,DoNotCall,Phone,MobilePhone from Contact where DoNotCall<>True \"\"\"\n",
    "\n",
    "# Construct the URL\n",
    "url = f\"{instance_url}/services/data/v51.0/query?q={query}\"\n",
    "\n",
    "# Make the request\n",
    "response = requests.get(url, headers=headers)\n",
    "\n",
    "# Process the response\n",
    "if response.status_code == 200:\n",
    "    data = response.json()\n",
    "    with open(\"output_notTrue1.json\", \"w\") as f:\n",
    "        json.dump(data, f)\n",
    "else:\n",
    "    print(f\"Error retrieving data: {response.status_code}\")\n",
    "    \n"
   ]
  },
  {
   "cell_type": "code",
   "execution_count": null,
   "id": "a4bd4da1",
   "metadata": {},
   "outputs": [],
   "source": []
  },
  {
   "cell_type": "code",
   "execution_count": null,
   "id": "b405e933",
   "metadata": {},
   "outputs": [],
   "source": []
  }
 ],
 "metadata": {
  "kernelspec": {
   "display_name": "Python 3 (ipykernel)",
   "language": "python",
   "name": "python3"
  },
  "language_info": {
   "codemirror_mode": {
    "name": "ipython",
    "version": 3
   },
   "file_extension": ".py",
   "mimetype": "text/x-python",
   "name": "python",
   "nbconvert_exporter": "python",
   "pygments_lexer": "ipython3",
   "version": "3.9.7"
  }
 },
 "nbformat": 4,
 "nbformat_minor": 5
}
