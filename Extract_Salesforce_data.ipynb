{
 "cells": [
  {
   "cell_type": "code",
   "execution_count": 1,
   "id": "eb22f99b",
   "metadata": {},
   "outputs": [
    {
     "name": "stdout",
     "output_type": "stream",
     "text": [
      "Done\n",
      "200\n",
      "OK\n"
     ]
    },
    {
     "data": {
      "text/plain": [
       "{'access_token': '00DDn000002q7Dy!ARkAQO7D9HV9l.CAvUmzM2yGUXlaEf3p5kpzFlM5TwWj.XCaXZXm3VoMSspnlTBSQRul37xogO56XJO.LQb2OFkKn3Ys9wXi',\n",
       " 'instance_url': 'https://koresoftware-dev-ed.develop.my.salesforce.com',\n",
       " 'id': 'https://login.salesforce.com/id/00DDn000002q7DyMAI/005Dn000002M1PFIA0',\n",
       " 'token_type': 'Bearer',\n",
       " 'issued_at': '1678464094300',\n",
       " 'signature': '6zr3PthNg3Jz8xups+qkysguHByoto8UXBjv84Q6nb4='}"
      ]
     },
     "execution_count": 1,
     "metadata": {},
     "output_type": "execute_result"
    }
   ],
   "source": [
    "\n",
    "import requests\n",
    "import json\n",
    "\n",
    "#read the config json file\n",
    "with open('salesforce_config.json', 'r') as f:\n",
    "    C = json.load(f)\n",
    "\n",
    "# Set the Salesforce URL,client ID, client secret, username and password from configfile   \n",
    "\n",
    "salesforce_url = \"https://login.salesforce.com/services/oauth2/token\"\n",
    "client_id = C[\"CLIENTID\"]\n",
    "client_secret = C[\"CLIENTSECRET\"]\n",
    "username = C[\"USERNAME\"]\n",
    "password = C[\"PASSWORD\"]\n",
    "\n",
    "\n",
    "# Set the REST API endpoint URL for obtaining an access token\n",
    "rest_api_url = salesforce_url+\"/services/oauth2/token\"\n",
    "\n",
    "payload = {\n",
    "    \"grant_type\":\"password\",\n",
    "    \"client_id\": client_id,\n",
    "    \"client_secret\":client_secret,\n",
    "    \"username\": username,\n",
    "    \"password\": password\n",
    "}\n",
    "\n",
    "# Send the POST request to the REST API endpoint with the payload\n",
    "response = requests.post(salesforce_url, data=payload)\n",
    "print('Done')\n",
    "print(response.status_code)\n",
    "print(response.reason)\n",
    "\n",
    "response.json()\n",
    "\n",
    "\n"
   ]
  },
  {
   "cell_type": "code",
   "execution_count": 2,
   "id": "1be062a4",
   "metadata": {},
   "outputs": [],
   "source": [
    "access_token = response.json().get(\"access_token\")\n",
    "instance_url = response.json().get(\"instance_url\")\n",
    "\n",
    "# Set the headers\n",
    "headers = {\n",
    "    \"Authorization\": f\"Bearer {access_token}\",\n",
    "    \"Content-Type\": \"application/json\"\n",
    "}\n",
    "\n",
    "# Define the SOQL query to retrieve data from Contacts Table in Salesforce\n",
    "#query = \"\"\"Select IndividualId,OwnerId,Email,Suffix,FirstName,LastName,MailingStreet,MailingCity,MailingState,\n",
    " #          MailingPostalCode,MailingCountry,DoNotCall,Phone,MobilePhone from Contact where DoNotCall<>True\"\"\"\n",
    "\n",
    "query = \"\"\"Select IndividualId,OwnerId,Email,FirstName,LastName,MailingStreet,MailingCity,MailingState,\n",
    "            MailingPostalCode,MailingCountry,DoNotCall,Phone,MobilePhone from Contact where DoNotCall<>True \"\"\"\n",
    "\n",
    "# Construct the URL\n",
    "url = f\"{instance_url}/services/data/v51.0/query?q={query}\"\n",
    "\n",
    "# Make the request\n",
    "response = requests.get(url, headers=headers)\n",
    "\n",
    "# Process the response\n",
    "if response.status_code == 200:\n",
    "    data = response.json()\n",
    "    with open(\"output_notTrue.json\", \"w\") as f:\n",
    "        json.dump(data, f)\n",
    "else:\n",
    "    print(f\"Error retrieving data: {response.status_code}\")\n",
    "    \n"
   ]
  },
  {
   "cell_type": "code",
   "execution_count": 3,
   "id": "d3e6c9dd",
   "metadata": {},
   "outputs": [
    {
     "data": {
      "text/plain": [
       "{'totalSize': 1495, 'done': True, 'records': []}"
      ]
     },
     "execution_count": 3,
     "metadata": {},
     "output_type": "execute_result"
    }
   ],
   "source": [
    "# Validating the total number of records in the source\n",
    "query = \"select count() from Contact\"\n",
    "url = f\"{instance_url}/services/data/v51.0/query?q={query}\"\n",
    "# Make the request\n",
    "response = requests.get(url, headers=headers)\n",
    "response.json()"
   ]
  },
  {
   "cell_type": "code",
   "execution_count": 4,
   "id": "96b150b1",
   "metadata": {},
   "outputs": [
    {
     "data": {
      "text/plain": [
       "{'totalSize': 8, 'done': True, 'records': []}"
      ]
     },
     "execution_count": 4,
     "metadata": {},
     "output_type": "execute_result"
    }
   ],
   "source": [
    "# Validating the total number of records in the source with donot call = \"true\"\n",
    "query = \"select count() from Contact where DoNotCall = True\"\n",
    "url = f\"{instance_url}/services/data/v51.0/query?q={query}\"\n",
    "# Make the request\n",
    "response = requests.get(url, headers=headers)\n",
    "response.json()"
   ]
  },
  {
   "cell_type": "code",
   "execution_count": null,
   "id": "3f337551",
   "metadata": {},
   "outputs": [],
   "source": []
  }
 ],
 "metadata": {
  "kernelspec": {
   "display_name": "Python 3 (ipykernel)",
   "language": "python",
   "name": "python3"
  },
  "language_info": {
   "codemirror_mode": {
    "name": "ipython",
    "version": 3
   },
   "file_extension": ".py",
   "mimetype": "text/x-python",
   "name": "python",
   "nbconvert_exporter": "python",
   "pygments_lexer": "ipython3",
   "version": "3.9.7"
  }
 },
 "nbformat": 4,
 "nbformat_minor": 5
}
