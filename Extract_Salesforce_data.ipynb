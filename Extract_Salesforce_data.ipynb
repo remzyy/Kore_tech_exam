{
 "cells": [
  {
   "cell_type": "code",
   "execution_count": 74,
   "id": "00594bd7",
   "metadata": {
    "collapsed": true
   },
   "outputs": [
    {
     "name": "stdout",
     "output_type": "stream",
     "text": [
      "Collecting api\n",
      "  Downloading api-0.0.7.tar.gz (2.2 kB)\n",
      "Requirement already satisfied: requests in c:\\users\\ramse\\anaconda3\\lib\\site-packages (from api) (2.26.0)\n",
      "Requirement already satisfied: nose in c:\\users\\ramse\\anaconda3\\lib\\site-packages (from api) (1.3.7)\n",
      "Requirement already satisfied: urllib3<1.27,>=1.21.1 in c:\\users\\ramse\\anaconda3\\lib\\site-packages (from requests->api) (1.26.7)\n",
      "Requirement already satisfied: idna<4,>=2.5 in c:\\users\\ramse\\anaconda3\\lib\\site-packages (from requests->api) (3.2)\n",
      "Requirement already satisfied: certifi>=2017.4.17 in c:\\users\\ramse\\anaconda3\\lib\\site-packages (from requests->api) (2021.10.8)\n",
      "Requirement already satisfied: charset-normalizer~=2.0.0 in c:\\users\\ramse\\anaconda3\\lib\\site-packages (from requests->api) (2.0.4)\n",
      "Building wheels for collected packages: api\n",
      "  Building wheel for api (setup.py): started\n",
      "  Building wheel for api (setup.py): finished with status 'done'\n",
      "  Created wheel for api: filename=api-0.0.7-py3-none-any.whl size=2325 sha256=53355d1d4f606ac0c2ec4f08fd3a2c9ca82044ff90ad819831d5cc9152d9b791\n",
      "  Stored in directory: c:\\users\\ramse\\appdata\\local\\pip\\cache\\wheels\\f9\\aa\\62\\7a58dc8d2d5b68a3b46506e92d896a7128456adb95489ba973\n",
      "Successfully built api\n",
      "Installing collected packages: api\n",
      "Successfully installed api-0.0.7\n",
      "Note: you may need to restart the kernel to use updated packages.\n"
     ]
    },
    {
     "name": "stderr",
     "output_type": "stream",
     "text": [
      "WARNING: Ignoring invalid distribution -umpy (c:\\users\\ramse\\anaconda3\\lib\\site-packages)\n",
      "WARNING: Ignoring invalid distribution -umpy (c:\\users\\ramse\\anaconda3\\lib\\site-packages)\n",
      "WARNING: Ignoring invalid distribution -umpy (c:\\users\\ramse\\anaconda3\\lib\\site-packages)\n",
      "WARNING: Ignoring invalid distribution -umpy (c:\\users\\ramse\\anaconda3\\lib\\site-packages)\n",
      "WARNING: Ignoring invalid distribution -umpy (c:\\users\\ramse\\anaconda3\\lib\\site-packages)\n",
      "WARNING: Ignoring invalid distribution -umpy (c:\\users\\ramse\\anaconda3\\lib\\site-packages)\n",
      "WARNING: Ignoring invalid distribution -umpy (c:\\users\\ramse\\anaconda3\\lib\\site-packages)\n"
     ]
    }
   ],
   "source": [
    "pip install api"
   ]
  },
  {
   "cell_type": "code",
   "execution_count": 104,
   "id": "81de5899",
   "metadata": {},
   "outputs": [
    {
     "name": "stdout",
     "output_type": "stream",
     "text": [
      "Done\n",
      "200\n",
      "OK\n"
     ]
    },
    {
     "data": {
      "text/plain": [
       "{'access_token': '00DDn000002q7Dy!ARkAQPw.b4iqmNOXGXCrP.Pkm3gqHzJXJensAXFWPiMDqP7DPWbxeUYgaayD2sgzIzYzI6e1_Z0OUujGTaHm_v1V8LdaFRRY',\n",
       " 'instance_url': 'https://koresoftware-dev-ed.develop.my.salesforce.com',\n",
       " 'id': 'https://login.salesforce.com/id/00DDn000002q7DyMAI/005Dn000002M1PFIA0',\n",
       " 'token_type': 'Bearer',\n",
       " 'issued_at': '1678412198019',\n",
       " 'signature': 'mrVr+B6V5S5cMaZE6JaHVKsICkFs82GwXrqcOvzIrZ8='}"
      ]
     },
     "execution_count": 104,
     "metadata": {},
     "output_type": "execute_result"
    }
   ],
   "source": [
    "\n",
    "import requests\n",
    "import json\n",
    "\n",
    "# Set the Salesforce instance URL, OAuth client ID, and client secret\n",
    "\n",
    "salesforce_url = \"https://login.salesforce.com/services/oauth2/token\"\n",
    "client_id = \"3MVG9ux34Ig8G5epaMPqbA1E25OpLuKGuGcWZixMzgV6myFvvKoIQnGrMY5mg9pTNHPBWj9GgJNuwD0TAIEIy\"\n",
    "client_secret = \"50D529BA45FA479E8FE492C5BC5CBE774452FF21597B1ED8D73352105428F3FC\"\n",
    "username = \"sfdcshared@gmail.com\"\n",
    "password = \"G6CaYJ0riOQz7Oes2yH9RS7n\"\n",
    "\n",
    "# Set the REST API endpoint URL for obtaining an access token\n",
    "rest_api_url = salesforce_url+\"/services/oauth2/token\"\n",
    "\n",
    "payload = {\n",
    "    \"grant_type\":\"password\",\n",
    "    \"client_id\": client_id,\n",
    "    \"client_secret\":client_secret,\n",
    "    \"username\": username,\n",
    "    \"password\": password\n",
    "}\n",
    "\n",
    "# Send the POST request to the REST API endpoint with the payload\n",
    "response = requests.post(salesforce_url, data=payload)\n",
    "print('Done')\n",
    "print(response.status_code)\n",
    "print(response.reason)\n",
    "\n",
    "response.json()\n",
    "\n",
    "\n"
   ]
  },
  {
   "cell_type": "code",
   "execution_count": 105,
   "id": "be58ecd4",
   "metadata": {},
   "outputs": [],
   "source": [
    "access_token = response.json().get(\"access_token\")\n",
    "instance_url = response.json().get(\"instance_url\")"
   ]
  },
  {
   "cell_type": "code",
   "execution_count": 135,
   "id": "2da94bc0",
   "metadata": {},
   "outputs": [],
   "source": [
    "# Set the headers\n",
    "headers = {\n",
    "    \"Authorization\": f\"Bearer {access_token}\",\n",
    "    \"Content-Type\": \"application/json\"\n",
    "}\n",
    "\n",
    "# Define the SOQL query\n",
    "#query = \"Select IndividualId,Email,Suffix,FirstName,LastName,MailingStreet,MailingCity,MailingState,MailingPostalCode,DoNotCall,Phone FROM Contact\"\n",
    "query = \"Select IndividualId,OwnerId,Email,FirstName,LastName,MailingStreet,MailingCity,MailingState,MailingPostalCode,MailingCountry,DoNotCall,Phone,MobilePhone from Contact where DoNotCall<>True\"\n",
    "# Construct the URL\n",
    "url = f\"{instance_url}/services/data/v51.0/query?q={query}\"\n",
    "\n",
    "# Make the request\n",
    "response = requests.get(url, headers=headers)\n",
    "\n",
    "# Process the response\n",
    "if response.status_code == 200:\n",
    "    data = response.json()\n",
    "    with open(\"output_notTrue.json\", \"w\") as f:\n",
    "        json.dump(data, f)\n",
    "else:\n",
    "    print(f\"Error retrieving data: {response.status_code}\")\n",
    "    \n"
   ]
  },
  {
   "cell_type": "code",
   "execution_count": null,
   "id": "bad89621",
   "metadata": {},
   "outputs": [],
   "source": []
  },
  {
   "cell_type": "code",
   "execution_count": null,
   "id": "563c6c17",
   "metadata": {},
   "outputs": [],
   "source": []
  }
 ],
 "metadata": {
  "kernelspec": {
   "display_name": "Python 3 (ipykernel)",
   "language": "python",
   "name": "python3"
  },
  "language_info": {
   "codemirror_mode": {
    "name": "ipython",
    "version": 3
   },
   "file_extension": ".py",
   "mimetype": "text/x-python",
   "name": "python",
   "nbconvert_exporter": "python",
   "pygments_lexer": "ipython3",
   "version": "3.9.7"
  }
 },
 "nbformat": 4,
 "nbformat_minor": 5
}
