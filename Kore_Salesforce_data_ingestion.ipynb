{
 "cells": [
  {
   "cell_type": "code",
   "execution_count": 5,
   "id": "a17f3b36",
   "metadata": {
    "collapsed": true
   },
   "outputs": [
    {
     "name": "stdout",
     "output_type": "stream",
     "text": [
      "Requirement already satisfied: simple-salesforce in c:\\users\\ramse\\anaconda3\\lib\\site-packages (0.3)\n",
      "Requirement already satisfied: requests in c:\\users\\ramse\\anaconda3\\lib\\site-packages (from simple-salesforce) (2.26.0)\n",
      "Requirement already satisfied: charset-normalizer~=2.0.0 in c:\\users\\ramse\\anaconda3\\lib\\site-packages (from requests->simple-salesforce) (2.0.4)\n",
      "Requirement already satisfied: urllib3<1.27,>=1.21.1 in c:\\users\\ramse\\anaconda3\\lib\\site-packages (from requests->simple-salesforce) (1.26.7)\n",
      "Requirement already satisfied: idna<4,>=2.5 in c:\\users\\ramse\\anaconda3\\lib\\site-packages (from requests->simple-salesforce) (3.2)\n",
      "Requirement already satisfied: certifi>=2017.4.17 in c:\\users\\ramse\\anaconda3\\lib\\site-packages (from requests->simple-salesforce) (2021.10.8)\n",
      "Note: you may need to restart the kernel to use updated packages.\n"
     ]
    },
    {
     "name": "stderr",
     "output_type": "stream",
     "text": [
      "WARNING: Ignoring invalid distribution -umpy (c:\\users\\ramse\\anaconda3\\lib\\site-packages)\n",
      "WARNING: Ignoring invalid distribution -umpy (c:\\users\\ramse\\anaconda3\\lib\\site-packages)\n",
      "WARNING: Ignoring invalid distribution -umpy (c:\\users\\ramse\\anaconda3\\lib\\site-packages)\n",
      "WARNING: Ignoring invalid distribution -umpy (c:\\users\\ramse\\anaconda3\\lib\\site-packages)\n",
      "WARNING: Ignoring invalid distribution -umpy (c:\\users\\ramse\\anaconda3\\lib\\site-packages)\n",
      "WARNING: Ignoring invalid distribution -umpy (c:\\users\\ramse\\anaconda3\\lib\\site-packages)\n"
     ]
    }
   ],
   "source": [
    "pip install simple-salesforce"
   ]
  },
  {
   "cell_type": "code",
   "execution_count": 2,
   "id": "49de644e",
   "metadata": {
    "collapsed": true
   },
   "outputs": [
    {
     "ename": "ModuleNotFoundError",
     "evalue": "No module named 'Salesforce'",
     "output_type": "error",
     "traceback": [
      "\u001b[1;31m---------------------------------------------------------------------------\u001b[0m",
      "\u001b[1;31mModuleNotFoundError\u001b[0m                       Traceback (most recent call last)",
      "\u001b[1;32m~\\AppData\\Local\\Temp/ipykernel_18820/898322813.py\u001b[0m in \u001b[0;36m<module>\u001b[1;34m\u001b[0m\n\u001b[1;32m----> 1\u001b[1;33m \u001b[1;32mimport\u001b[0m \u001b[0mSalesforce\u001b[0m\u001b[1;33m\u001b[0m\u001b[1;33m\u001b[0m\u001b[0m\n\u001b[0m",
      "\u001b[1;31mModuleNotFoundError\u001b[0m: No module named 'Salesforce'"
     ]
    }
   ],
   "source": [
    "from simple_salesforce import Salesforce"
   ]
  },
  {
   "cell_type": "code",
   "execution_count": 6,
   "id": "201c2472",
   "metadata": {
    "collapsed": true
   },
   "outputs": [
    {
     "ename": "ModuleNotFoundError",
     "evalue": "No module named 'api'",
     "output_type": "error",
     "traceback": [
      "\u001b[1;31m---------------------------------------------------------------------------\u001b[0m",
      "\u001b[1;31mModuleNotFoundError\u001b[0m                       Traceback (most recent call last)",
      "\u001b[1;32m~\\AppData\\Local\\Temp/ipykernel_27676/1185337323.py\u001b[0m in \u001b[0;36m<module>\u001b[1;34m\u001b[0m\n\u001b[1;32m----> 1\u001b[1;33m \u001b[1;32mfrom\u001b[0m \u001b[0msimple_salesforce\u001b[0m \u001b[1;32mimport\u001b[0m \u001b[0mSalesforce\u001b[0m\u001b[1;33m\u001b[0m\u001b[1;33m\u001b[0m\u001b[0m\n\u001b[0m\u001b[0;32m      2\u001b[0m \u001b[0msf\u001b[0m \u001b[1;33m=\u001b[0m \u001b[0mSalesforce\u001b[0m\u001b[1;33m(\u001b[0m\u001b[0musername\u001b[0m\u001b[1;33m=\u001b[0m\u001b[1;34m'sfdcshared@gmail.com'\u001b[0m\u001b[1;33m,\u001b[0m \u001b[0mpassword\u001b[0m\u001b[1;33m=\u001b[0m\u001b[1;34m'G6CaYJ0riOQz7Oes2yH9RS7n'\u001b[0m\u001b[1;33m,\u001b[0m \u001b[0mconsumer_key\u001b[0m\u001b[1;33m=\u001b[0m\u001b[1;34m'3MVG9ux34Ig8G5epaMPqbA1E25OpLuKGuGcWZixMzgV6myFvvKoIQnGrMY5mg9pTNHPBWj9GgJNuwD0TAIEIy'\u001b[0m\u001b[1;33m,\u001b[0m \u001b[0mconsumer_secret\u001b[0m\u001b[1;33m=\u001b[0m\u001b[1;34m'50D529BA45FA479E8FE492C5BC5CBE774452FF21597B1ED8D73352105428F3FC'\u001b[0m\u001b[1;33m)\u001b[0m\u001b[1;33m\u001b[0m\u001b[1;33m\u001b[0m\u001b[0m\n",
      "\u001b[1;32m~\\anaconda3\\lib\\site-packages\\simple_salesforce\\__init__.py\u001b[0m in \u001b[0;36m<module>\u001b[1;34m\u001b[0m\n\u001b[1;32m----> 1\u001b[1;33m \u001b[1;32mfrom\u001b[0m \u001b[0mapi\u001b[0m \u001b[1;32mimport\u001b[0m \u001b[0mSalesforceAPI\u001b[0m\u001b[1;33m\u001b[0m\u001b[1;33m\u001b[0m\u001b[0m\n\u001b[0m",
      "\u001b[1;31mModuleNotFoundError\u001b[0m: No module named 'api'"
     ]
    }
   ],
   "source": [
    "from simple_salesforce import Salesforce\n",
    "sf = Salesforce(username='sfdcshared@gmail.com', password='G6CaYJ0riOQz7Oes2yH9RS7n', consumer_key='3MVG9ux34Ig8G5epaMPqbA1E25OpLuKGuGcWZixMzgV6myFvvKoIQnGrMY5mg9pTNHPBWj9GgJNuwD0TAIEIy', consumer_secret='50D529BA45FA479E8FE492C5BC5CBE774452FF21597B1ED8D73352105428F3FC')"
   ]
  },
  {
   "cell_type": "code",
   "execution_count": 40,
   "id": "6c1be8a4",
   "metadata": {},
   "outputs": [
    {
     "name": "stdout",
     "output_type": "stream",
     "text": [
      "Done\n",
      "400\n",
      "Bad Request\n"
     ]
    },
    {
     "data": {
      "text/plain": [
       "{'error': 'unsupported_grant_type',\n",
       " 'error_description': 'grant type not supported'}"
      ]
     },
     "execution_count": 40,
     "metadata": {},
     "output_type": "execute_result"
    }
   ],
   "source": [
    "\n",
    "import requests\n",
    "import json\n",
    "\n",
    "# Set the Salesforce instance URL, OAuth client ID, and client secret\n",
    "\n",
    "salesforce_url = \"http://koresoftware-dev-ed.develop.my.salesforce.com\"\n",
    "client_id = \"3MVG9ux34Ig8G5epaMPqbA1E25OpLuKGuGcWZixMzgV6myFvvKoIQnGrMY5mg9pTNHPBWj9GgJNuwD0TAIEIy\"\n",
    "client_secret = \"50D529BA45FA479E8FE492C5BC5CBE774452FF21597B1ED8D73352105428F3FC\"\n",
    "username = \"sfdcshared@gmail.com\"\n",
    "password = \"G6CaYJ0riOQz7Oes2yH9RS7n\"\n",
    "\n",
    "# Set the REST API endpoint URL for obtaining an access token\n",
    "rest_api_url = salesforce_url+\"/services/oauth2/token\"\n",
    "\n",
    "payload = {\n",
    "    \"grant_type\":\"password\",\n",
    "    \"client_id\": client_id,\n",
    "    \"client_secret\":client_secret,\n",
    "    \"username\": username,\n",
    "    \"password\": password\n",
    "}\n",
    "\n",
    "# Send the POST request to the REST API endpoint with the payload\n",
    "response = requests.post(rest_api_url, data=payload)\n",
    "print('Done')\n",
    "print(response.status_code)\n",
    "print(response.reason)\n",
    "\n",
    "response.json()\n",
    "\n",
    "\n"
   ]
  },
  {
   "cell_type": "code",
   "execution_count": null,
   "id": "7658a3b6",
   "metadata": {},
   "outputs": [],
   "source": [
    "access_token = r.json().get(\"access_token\")\n",
    "instance_url = r.json().get(\"instance_url\")"
   ]
  },
  {
   "cell_type": "code",
   "execution_count": null,
   "id": "f89e0d72",
   "metadata": {},
   "outputs": [],
   "source": [
    "# Set the headers\n",
    "headers = {\n",
    "    \"Authorization\": f\"Bearer {access_token}\",\n",
    "    \"Content-Type\": \"application/json\"\n",
    "}\n",
    "# Define the SOQL query\n",
    "query = \"\"\"\n",
    "Select AccountId,AssistantName,AssistantPhone,Birthdate,DoNotCall,Email,HomePhone\n",
    "FROM Contact \n",
    "Where DoNotCall <> True\n",
    "\"\"\"\n",
    "\n",
    "# Make the request\n",
    "r = requests.get(instance_url + \"/services/data/vXX.X/sobjects/sObject/describe/\", headers=headers, params={\"q\": query})\n",
    "results = r.json().get(\"records\")\n",
    "\n",
    "\n",
    "\n"
   ]
  },
  {
   "cell_type": "code",
   "execution_count": null,
   "id": "4b0d3e18",
   "metadata": {},
   "outputs": [],
   "source": []
  },
  {
   "cell_type": "code",
   "execution_count": 63,
   "id": "b7571a3e",
   "metadata": {},
   "outputs": [
    {
     "ename": "SyntaxError",
     "evalue": "invalid character '“' (U+201C) (Temp/ipykernel_18820/2049750553.py, line 2)",
     "output_type": "error",
     "traceback": [
      "\u001b[1;36m  File \u001b[1;32m\"C:\\Users\\ramse\\AppData\\Local\\Temp/ipykernel_18820/2049750553.py\"\u001b[1;36m, line \u001b[1;32m2\u001b[0m\n\u001b[1;33m    “grant_type” : “client_credentials”\u001b[0m\n\u001b[1;37m    ^\u001b[0m\n\u001b[1;31mSyntaxError\u001b[0m\u001b[1;31m:\u001b[0m invalid character '“' (U+201C)\n"
     ]
    }
   ],
   "source": [
    "payload ={\n",
    "“grant_type” : “client_credentials”\n",
    "}"
   ]
  },
  {
   "cell_type": "code",
   "execution_count": 62,
   "id": "9e3c6f28",
   "metadata": {},
   "outputs": [
    {
     "ename": "SyntaxError",
     "evalue": "invalid non-printable character U+00A0 (Temp/ipykernel_18820/1512508711.py, line 1)",
     "output_type": "error",
     "traceback": [
      "\u001b[1;36m  File \u001b[1;32m\"C:\\Users\\ramse\\AppData\\Local\\Temp/ipykernel_18820/1512508711.py\"\u001b[1;36m, line \u001b[1;32m1\u001b[0m\n\u001b[1;33m    Response = requests.post(\"http://koresoftware-dev-ed.develop.my.salesforce.com\", auth=(\"3MVG9ux34Ig8G5epaMPqbA1E25OpLuKGuGcWZixMzgV6myFvvKoIQnGrMY5mg9pTNHPBWj9GgJNuwD0TAIEIy\",\"50D529BA45FA479E8FE492C5BC5CBE774452FF21597B1ED8D73352105428F3FC\"), data=payload)\u001b[0m\n\u001b[1;37m                                                                                                                                                                                                                                                       ^\u001b[0m\n\u001b[1;31mSyntaxError\u001b[0m\u001b[1;31m:\u001b[0m invalid non-printable character U+00A0\n"
     ]
    }
   ],
   "source": [
    "Response = requests.post(\"http://koresoftware-dev-ed.develop.my.salesforce.com\", auth=(\"3MVG9ux34Ig8G5epaMPqbA1E25OpLuKGuGcWZixMzgV6myFvvKoIQnGrMY5mg9pTNHPBWj9GgJNuwD0TAIEIy\",\"50D529BA45FA479E8FE492C5BC5CBE774452FF21597B1ED8D73352105428F3FC\"), data=payload)"
   ]
  },
  {
   "cell_type": "code",
   "execution_count": null,
   "id": "a76a0bf2",
   "metadata": {},
   "outputs": [],
   "source": []
  },
  {
   "cell_type": "code",
   "execution_count": null,
   "id": "e579ff48",
   "metadata": {},
   "outputs": [],
   "source": []
  }
 ],
 "metadata": {
  "kernelspec": {
   "display_name": "Python 3 (ipykernel)",
   "language": "python",
   "name": "python3"
  },
  "language_info": {
   "codemirror_mode": {
    "name": "ipython",
    "version": 3
   },
   "file_extension": ".py",
   "mimetype": "text/x-python",
   "name": "python",
   "nbconvert_exporter": "python",
   "pygments_lexer": "ipython3",
   "version": "3.9.7"
  }
 },
 "nbformat": 4,
 "nbformat_minor": 5
}
